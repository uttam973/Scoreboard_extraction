{
  "nbformat": 4,
  "nbformat_minor": 0,
  "metadata": {
    "colab": {
      "provenance": []
    },
    "kernelspec": {
      "name": "python3",
      "display_name": "Python 3"
    },
    "language_info": {
      "name": "python"
    }
  },
  "cells": [
    {
      "cell_type": "code",
      "source": [
        "#mount google drive\n",
        "from google.colab import drive\n",
        "drive.mount('/content/drive')"
      ],
      "metadata": {
        "colab": {
          "base_uri": "https://localhost:8080/"
        },
        "id": "AcVBVXrizIio",
        "outputId": "f2167109-78d8-4896-c598-3129b03ce78b"
      },
      "execution_count": null,
      "outputs": [
        {
          "output_type": "stream",
          "name": "stdout",
          "text": [
            "Mounted at /content/drive\n"
          ]
        }
      ]
    },
    {
      "cell_type": "code",
      "source": [
        "#VIDEO DATA VALIDATION\n",
        "\n",
        "import cv2\n",
        "\n",
        "def validate_video(video_path):\n",
        "    video = cv2.VideoCapture(video_path)\n",
        "    resolution = (int(video.get(cv2.CAP_PROP_FRAME_WIDTH)), int(video.get(cv2.CAP_PROP_FRAME_HEIGHT)))\n",
        "    frame_rate = video.get(cv2.CAP_PROP_FPS)\n",
        "    duration = video.get(cv2.CAP_PROP_FRAME_COUNT) / frame_rate\n",
        "\n",
        "    if resolution >= (1280, 720) and frame_rate >= 30:\n",
        "        print(\"Video resolution and frame rate are valid.\")\n",
        "    else:\n",
        "        print(\"Works however,not recommended as OCR accuracy may fall.\")\n",
        "\n",
        "    return resolution, frame_rate, duration\n"
      ],
      "metadata": {
        "id": "fciCjR2QS5Pm"
      },
      "execution_count": null,
      "outputs": []
    },
    {
      "cell_type": "code",
      "source": [
        "validate_video('/content/drive/MyDrive/Capstone/Datasets/Brazil_vs_Belgium_Cleaned.mp4')"
      ],
      "metadata": {
        "colab": {
          "base_uri": "https://localhost:8080/"
        },
        "id": "eeag2RavzEtE",
        "outputId": "5590da10-769f-4f17-87bc-7bc02677642e"
      },
      "execution_count": null,
      "outputs": [
        {
          "output_type": "stream",
          "name": "stdout",
          "text": [
            "Video resolution and frame rate are valid.\n"
          ]
        },
        {
          "output_type": "execute_result",
          "data": {
            "text/plain": [
              "((1280, 720), 30.0, 5841.233333333334)"
            ]
          },
          "metadata": {},
          "execution_count": 4
        }
      ]
    },
    {
      "cell_type": "code",
      "source": [
        "validate_video('/content/drive/MyDrive/Capstone/Datasets/France_vs_Croatia/France_vs_Croatia.mp4')"
      ],
      "metadata": {
        "colab": {
          "base_uri": "https://localhost:8080/"
        },
        "id": "k3EXbEOQzgx7",
        "outputId": "71b14097-5360-44bf-a329-327f8b3bd673"
      },
      "execution_count": null,
      "outputs": [
        {
          "output_type": "stream",
          "name": "stdout",
          "text": [
            "Works however,not recommended as OCR accuracy may fall.\n"
          ]
        },
        {
          "output_type": "execute_result",
          "data": {
            "text/plain": [
              "((854, 480), 30.0, 6115.0)"
            ]
          },
          "metadata": {},
          "execution_count": 5
        }
      ]
    }
  ]
}